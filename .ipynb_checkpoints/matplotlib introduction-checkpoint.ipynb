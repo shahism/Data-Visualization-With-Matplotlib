{
 "cells": [
  {
   "cell_type": "code",
   "execution_count": null,
   "id": "1598efec",
   "metadata": {},
   "outputs": [],
   "source": [
    "# What is Data Visualization?\n",
    "- Data visualization is a field which deals with visual representation of data. It plots data in a graphical way and is an effective way to communicating inferences from data."
   ]
  }
 ],
 "metadata": {
  "kernelspec": {
   "display_name": "Python 3 (ipykernel)",
   "language": "python",
   "name": "python3"
  },
  "language_info": {
   "codemirror_mode": {
    "name": "ipython",
    "version": 3
   },
   "file_extension": ".py",
   "mimetype": "text/x-python",
   "name": "python",
   "nbconvert_exporter": "python",
   "pygments_lexer": "ipython3",
   "version": "3.9.7"
  }
 },
 "nbformat": 4,
 "nbformat_minor": 5
}
